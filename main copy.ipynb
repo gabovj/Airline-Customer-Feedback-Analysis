{
 "cells": [
  {
   "cell_type": "markdown",
   "metadata": {},
   "source": [
    "# Airline Customer Feedback Analysis"
   ]
  },
  {
   "cell_type": "markdown",
   "metadata": {},
   "source": [
    "### Business Understanding\n",
    "\n",
    "The airline industry is highly competitive and customer service is a critical area that can influence customer loyalty and brand reputation. Timely and effective handling of customer feedback is crucial for maintaining service quality. Analyzing customer feedback can provide insights into common concerns and areas for improvement.\n",
    "\n",
    "### Project Goals\n",
    "\n",
    "The primary goal of this project is twofold:\n",
    "\n",
    "1. **Sentiment Analysis**: To automatically determine the sentiment of customer comments. The sentiment can be:\n",
    "   - **Negative (Complaint)**: Indicates the customer faced an issue or is dissatisfied.\n",
    "   - **Positive (Congratulation)**: Reflects customer satisfaction or a positive experience.\n",
    "   - **Neutral (Opinion)**: Represents a customer's opinion that is neither a direct complaint nor praise.\n",
    "\n",
    "2. **Complaint Classification**: To classify customer feedback into categories for routing to the appropriate department. This classification will help in streamlining the process of addressing customer feedback efficiently. Example categories include:\n",
    "   - **Luggage Issues**: For complaints or feedback related to damaged or lost luggage.\n",
    "   - **Flight Delays**: For issues pertaining to delayed or cancelled flights.\n",
    "   - **Billing Issues**: For concerns related to overcharges, refunds, or payment discrepancies.\n",
    "\n",
    "The end product will be a model or a set of models that can accurately tag incoming customer comments with the correct sentiment and category, allowing the customer service team to promptly address and resolve the issues."
   ]
  },
  {
   "cell_type": "code",
   "execution_count": 7,
   "metadata": {},
   "outputs": [],
   "source": [
    "import re\n",
    "import numpy as np\n",
    "import pandas as pd\n",
    "from pprint import pprint\n",
    "import nltk\n",
    "from nltk.corpus import stopwords\n",
    "import os.path\n",
    "\n",
    "# Gensim\n",
    "import gensim\n",
    "import gensim.corpora as corpora\n",
    "from gensim.utils import simple_preprocess\n",
    "from gensim.models import CoherenceModel\n",
    "import little_mallet_wrapper as lmw\n",
    "\n",
    "\n",
    "# Plotting tools\n",
    "import pyLDAvis\n",
    "import pyLDAvis.gensim_models\n",
    "import matplotlib.pyplot as plt\n",
    "%matplotlib inline\n",
    "\n",
    "\n",
    "# Enable logging for gensim - optional\n",
    "import logging\n",
    "logging.basicConfig(format='%(asctime)s : %(levelname)s : %(message)s', level=logging.ERROR)\n",
    "\n",
    "import warnings\n",
    "warnings.filterwarnings(\"ignore\",category=DeprecationWarning)\n",
    "\n",
    "path_to_mallet = 'mallet-2.0.8/bin/mallet'  # CHANGE THIS TO YOUR MALLET PATH"
   ]
  },
  {
   "cell_type": "code",
   "execution_count": 8,
   "metadata": {},
   "outputs": [
    {
     "name": "stderr",
     "output_type": "stream",
     "text": [
      "[nltk_data] Downloading package stopwords to /home/gabot/nltk_data...\n",
      "[nltk_data]   Package stopwords is already up-to-date!\n",
      "[nltk_data] Downloading package punkt to /home/gabot/nltk_data...\n",
      "[nltk_data]   Package punkt is already up-to-date!\n"
     ]
    },
    {
     "data": {
      "text/plain": [
       "True"
      ]
     },
     "execution_count": 8,
     "metadata": {},
     "output_type": "execute_result"
    }
   ],
   "source": [
    "nltk.download('stopwords')\n",
    "nltk.download('punkt')"
   ]
  },
  {
   "cell_type": "code",
   "execution_count": 16,
   "metadata": {},
   "outputs": [],
   "source": [
    "# Load data\n",
    "data = pd.read_excel('output.xlsx', engine='openpyxl')\n",
    "\n",
    "# Change typo in column name\n",
    "data.rename(columns={'descripciom': 'descripcion'}, inplace=True)\n"
   ]
  },
  {
   "cell_type": "code",
   "execution_count": 17,
   "metadata": {},
   "outputs": [
    {
     "name": "stdout",
     "output_type": "stream",
     "text": [
      "['Gracias por escribirnos, hemos recibido tu correo y en seguida daremos '\n",
      " 'respuesta. Para emergencias, por favor comunicate al 4777920450 ']\n"
     ]
    }
   ],
   "source": [
    "# Convert to list\n",
    "data = data.descripcion.values.tolist()\n",
    "\n",
    "# Remove non-string elements\n",
    "data = [str(sent) for sent in data]\n",
    "\n",
    "# Remove Emails\n",
    "data = [re.sub('\\S*@\\S*\\s?', '', sent) for sent in data]\n",
    "\n",
    "# Remove new line characters\n",
    "data = [re.sub('\\s+', ' ', sent) for sent in data]\n",
    "\n",
    "# Remove distracting single quotes\n",
    "data = [re.sub(\"\\'\", \"\", sent) for sent in data]\n",
    "\n",
    "pprint(data[:1])"
   ]
  },
  {
   "cell_type": "code",
   "execution_count": 18,
   "metadata": {},
   "outputs": [
    {
     "name": "stdout",
     "output_type": "stream",
     "text": [
      "[['gracias', 'por', 'escribirnos', 'hemos', 'recibido', 'tu', 'correo', 'en', 'seguida', 'daremos', 'respuesta', 'para', 'emergencias', 'por', 'favor', 'comunicate', 'al']]\n"
     ]
    }
   ],
   "source": [
    "def sent_to_words(sentences):\n",
    "    for sentence in sentences:\n",
    "        yield(gensim.utils.simple_preprocess(str(sentence), deacc=True))  # deacc=True removes punctuations\n",
    "\n",
    "data_words = list(sent_to_words(data))\n",
    "\n",
    "print(data_words[:1])"
   ]
  },
  {
   "cell_type": "code",
   "execution_count": 19,
   "metadata": {},
   "outputs": [
    {
     "name": "stdout",
     "output_type": "stream",
     "text": [
      "['gracias', 'por', 'escribirnos_hemos_recibido', 'tu', 'correo', 'en', 'seguida_daremos_respuesta', 'para', 'emergencias', 'por', 'favor', 'comunicate', 'al']\n"
     ]
    }
   ],
   "source": [
    "# Build the bigram and trigram models\n",
    "bigram = gensim.models.Phrases(data_words, min_count=5, threshold=100) # higher threshold fewer phrases.\n",
    "trigram = gensim.models.Phrases(bigram[data_words], threshold=100)  \n",
    "\n",
    "# Faster way to get a sentence clubbed as a trigram/bigram\n",
    "bigram_mod = gensim.models.phrases.Phraser(bigram)\n",
    "trigram_mod = gensim.models.phrases.Phraser(trigram)\n",
    "\n",
    "# See trigram example\n",
    "print(trigram_mod[bigram_mod[data_words[0]]])"
   ]
  },
  {
   "cell_type": "code",
   "execution_count": 21,
   "metadata": {},
   "outputs": [
    {
     "name": "stdout",
     "output_type": "stream",
     "text": [
      "{'hasta', 'fueses', 'vuestras', 'estuvieses', 'again', 'we', 'and', 'this', 'y', 'tenéis', 'habías', 'our', 'off', 'sentidos', 'seáis', 'nosotras', 'serán', 'todo', 'es', 'estuvierais', 'nor', 'adjunto', 'estabais', 'sí', 'you', 'sin', 'contra', 'estés', 'a', 'hubiera', 'estén', 'tenidas', 'habidas', 'mustn', 'eres', 'does', 'esos', 'hola', 'won', 'suyo', 'estuviese', 'hayan', 'entre', 'seré', 'un', 'blueaerolinea', 'vuestra', 'tuviese', 'te', 'términos condiciones', 'tenido', 'él', 'estarías', 'habida', \"won't\", 'at', 'to', 'les', 'himself', 'durante', 'tus', 'fueron', 't', 'habría', '6c756af0', 'estuve', 'estuviera', 'through', 'teníamos', 'tendréis', 'seamos', 'sentidas', 'who', 'having', 'hadn', 'habíais', 'tenemos', 'tuve', \"you've\", 'png', 'hubieras', 'same', 'if', 'mucho', \"weren't\", 'fuese', 'tendría', 'tuviera', 'here', 'era', 'tienes', 'nosotros', 'estuvieras', 'nuestros', 'estamos', 'hubiésemos', 'while', 'do', 'more', 'ha', 'can', \"shan't\", 'what', 'themselves', 'my', 'now', 'del', 'estáis', \"haven't\", 'soy', 'míos', 'estos', 'estado', 'solo', 'the', 'ellas', 'yo', 'haya', 'nbsp', 'on', 'más', 'día', 'quienes', 'habrías', 'fuerais', 'tu', 'será', 'doing', 'tenga', 'hubiese', 'si', 'hayas', 'about', 'fueran', 'esto', 'until', 'sus', 'did', 'uno', 'al', 'estemos', 'estuvieron', 'being', \"needn't\", 'these', 'esté', 'siente', 'saludos cordiales', 'sea', 'needn', 'hayamos', \"hadn't\", 'unos', 'suyas', 'further', 'how', 'whom', 'habríais', 'hubieran', 'fue', 'tengan', 'hubo', 'cid', 'hay', 'desde', 'hubieron', 'habéis', 'tuvieran', 'habrá', 'estuviéramos', 'sean', 'podrá', 'tú', 'de', 'estando', 'few', \"it's\", 'estuvo', 'seréis', \"you'd\", 'tendrían', 'habrás', 'vea', 'electronico', 'am', 'each', \"didn't\", 'they', 'under', 'buenas', 'sentid', 'your', 'fuesen', 'fuimos', 'qué', 'estábamos', 'yourself', \"you're\", 'una', 'términos', 'tuvierais', 'seremos', 'mía', 'its', 'noche', 'tenías', 'muy', 'poco', 'ours', 'el', 'estuviste', 'mi', 'an', 'donde', 'his', 'serás', 'hubieses', 'espera', 'nuestras', 'into', 'todos', 'esas', 'tendré', 'con', 'eran', 'habiendo', \"hasn't\", 'as', \"mightn't\", 'nada', 'teniendo', 'once', 'blue', 'como', 'sobre', 'las', 'saludos', 'com mx', 'tuviésemos', 's', 'hubierais', 'saber', 'seríamos', 'esa', 'be', 'why', 'tuya', 'son', 'habré', 'in', 'where', 'fuisteis', 'estas', 'habremos', 'other', \"wasn't\", 'some', 'eras', 'serías', 'formato', 'cuando', \"should've\", 're', 'mx', 'está', 'tened', 'también', 'estabas', 'encontrar', 'me', 've', 'vuestros', 'ustede', 'nos', \"you'll\", 'because', 'over', 'her', 'is', 'fuéramos', 'tuvieses', 'estoy', 'estarán', 'hers', 'against', 'after', 'will', 'hemos', 'com', 'hoy', 'hasn', 'estarían', 'estuvieseis', 'she', 'fuera', 'adjunto podrá', 'algunas', 'fuésemos', 'fueseis', 'estaría', 'aren', 'been', 'erais', 'isn', 'ella', 'gracias', 'ti', 'podrás encontrar', 'tuviste', 'tendrías', 'serían', 'of', 'tenían', 'estaremos', 'seas', 'were', \"shouldn't\", 'tuyos', 'hubiesen', 'not', 'any', 'no', 'sintiendo', 'sentido', 'estuvimos', 'don', 'itself', 'hube', 'los', 'habíamos', 'puedo', 'for', 'tuyo', \"aren't\", 'so', 'out', 'yourselves', 'estará', 'image004', 'noches', 'tuvieron', 'eso', 'estadas', 'hotmail', 'tuvieseis', 'tendrán', 'both', 'wasn', 'herself', 'ourselves', 'very', 'otros', 'yours', 'tenía', 'd', 'estarás', 'estados', 'correo', 'mí', 'their', 'mío', 'below', 'tuvieras', 'which', 'shan', 'nuestra', 'vosotros', \"that'll\", 'estaba', 'tendrá', 'fuiste', \"mustn't\", '01d57aa3', 'le', 'doesn', 'buenos', 'tiene', 'vuestro', 'tendríais', 'suya', 'are', 'pero', 'correo electrónico', 'condiciones', 'those', 'estuvieran', 'hayáis', 'estuvisteis', 'couldn', 'hacer', 'sentida', 'aerobu', 'tendremos', 'gmail', \"don't\", 'sois', 'most', 'it', 'ya', 'habrían', 'then', 'with', 'ma', 'estaríamos', 'habían', 'hubiéramos', 'cognitoforms', 'there', 'habido', 'quisiera', 'm', 'ellos', 'down', 'estás', 'xx ', 'suyos', 'algunos', 'habréis', 'había', 'estaréis', 'para', 'dia', 'estaré', 'tuyas', 'favor', 'www', 'tengáis', 'están', 'myself', 'them', 'before', 'up', 'll', 'estad', 'tanto', 'weren', 'tuviesen', 'fui', 'was', 'such', 'tenida', 'este', 'during', 'estuviesen', 'estéis', 'tengas', 'didn', 'seríais', 'has', 'mías', 'ustedes', 'shouldn', 'should', 'os', 'tuviéramos', 'habríamos', 'fueras', 'habidos', 'ain', 'su', 'image', 'tendríamos', 'hubisteis', 'had', 'tuvo', 'algo', 'habrán', 'otras', 'estada', 'estaban', 'haven', 'han', 'e', 'nuestro', 'i', 'hubimos', 'mightn', 'vosotras', 'ni', 'tuvimos', 'o', 'cordiales', 'that', 'tardes', 'above', 'gmail com', 'him', 'than', 'tengamos', 'tendrás', 'estar', 'or', 'ante', 'estuviésemos', 'tengo', \"doesn't\", 'teníais', 'días', 'tarde', 'between', 'wouldn', 'sería', 'tienen', 'mailto', 'but', 'ese', 'somos', 'only', 'tenidos', 'lo', 'podrás', 'when', 'just', 'muchas', 'otro', 'hubiste', 'quien', 'otra', 'quedo', 'theirs', 'antes', 'tuvisteis', 'por', 'en', 'too', 'grupos', 'all', 'he', 'by', \"wouldn't\", 'esta', 'la', 'se', \"she's\", 'estaríais', 'hubieseis', 'from', \"couldn't\", 'muchos', 'pdf', 'éramos', 'own', 'que', 'buen', 'porque', 'have', 'mis', \"isn't\", 'cual'}\n"
     ]
    }
   ],
   "source": [
    "#Define stop words\n",
    "stop_words_en = set(stopwords.words('english'))\n",
    "stop_words_sp = set(stopwords.words('spanish'))\n",
    "\n",
    "# Add additional Spanish stopwords\n",
    "new_stopwords = [\"buenas\", \"buen\",\"blueaerolinea\",\"saludos cordiales\",\"com mx\",\"www\",\"gmail com\",\"mailto\",\"gmail\", \"com\",\"hotmail\",\"image004\",\"hola\",\"tarde\",\"gmail com\",\"muchas\",\"gracias\", \"buenos\",\"día\",\"cid\",\"mx\",\"ustede\",\"correo\", \"electronico\",\n",
    "                          \"saludos\",\"cordiales\", \"formato\",\"pdf\",\"solo\",\"ustedes\",\"quedo\",\"espera\",\"noche\", \"blue\", \"aerobu\",\"adjunto podrá\", \"términos\", \"condiciones\",\"correo electrónico\",\"saber\", \"si\",\"podrás encontrar\",\"quedo\",\"espera\",\"noche\",\n",
    "                          \"adjunto\",\"podrá\", \"png\",\"podrás\",\"encontrar\",\"grupos\",\"quedo\",\"favor\",\"hoy\", \"quisiera\", \"tardes\",\"adjunto podrá\", \"términos condiciones\",\"correo electrónico\",\"saber\", \"si\",\"image\",\"6c756af0\",\"noches\",\"01d57aa3\",\n",
    "                      \"com\", \"nbsp\",\"cognitoforms\",\"dia\",\"quedo\",\"gracias\",\"vea\",\"saludos\",\"favor\", \"días\",\"hola\",\"image004\",\"xx \",\"tarde\",\"gmail com\",\"muchas\",\"gracias\", \"buenos\",\"día\",\"cid\",\"mx\",\"ustede\",\"puedo\", \"hacer\"]\n",
    "\n",
    "# Combine all stopwords\n",
    "all_stopwords = stop_words_en.union(stop_words_sp).union(new_stopwords)\n",
    "\n",
    "# Define stopwords excluding certain words if needed\n",
    "not_stopwords = {} \n",
    "final_stop_words = set([word for word in all_stopwords if word not in not_stopwords])\n",
    "print(final_stop_words)"
   ]
  },
  {
   "cell_type": "code",
   "execution_count": 22,
   "metadata": {},
   "outputs": [],
   "source": [
    "# Define functions for stopwords, bigrams, trigrams and lemmatization\n",
    "def remove_stopwords(texts):\n",
    "    # return [[word for word in simple_preprocess(str(doc)) if word not in stop_words] for doc in texts]\n",
    "    return [[word for word in simple_preprocess(str(doc)) if word not in final_stop_words] for doc in texts]\n",
    "\n",
    "def make_bigrams(texts):\n",
    "    return [bigram_mod[doc] for doc in texts]\n",
    "\n",
    "def make_trigrams(texts):\n",
    "    return [trigram_mod[bigram_mod[doc]] for doc in texts]"
   ]
  },
  {
   "cell_type": "code",
   "execution_count": 23,
   "metadata": {},
   "outputs": [],
   "source": [
    "# Remove Stop Words\n",
    "data_words_nostops = remove_stopwords(data_words)\n",
    "\n",
    "# Form Bigrams\n",
    "data_words_bigrams = make_bigrams(data_words_nostops)"
   ]
  },
  {
   "cell_type": "code",
   "execution_count": 24,
   "metadata": {},
   "outputs": [
    {
     "name": "stdout",
     "output_type": "stream",
     "text": [
      "[[(0, 1), (1, 1), (2, 1), (3, 1), (4, 1), (5, 1)]]\n"
     ]
    }
   ],
   "source": [
    "# Create Dictionary\n",
    "id2word = corpora.Dictionary(data_words_bigrams)\n",
    "\n",
    "# Create Corpus\n",
    "texts = data_words_bigrams\n",
    "\n",
    "# Term Document Frequency\n",
    "corpus = [id2word.doc2bow(text) for text in texts]\n",
    "\n",
    "# View\n",
    "print(corpus[:1])"
   ]
  },
  {
   "cell_type": "code",
   "execution_count": 25,
   "metadata": {},
   "outputs": [
    {
     "data": {
      "text/plain": [
       "[[('comunicate', 1),\n",
       "  ('emergencias', 1),\n",
       "  ('escribirnos', 1),\n",
       "  ('recibido', 1),\n",
       "  ('respuesta', 1),\n",
       "  ('seguida_daremos', 1)]]"
      ]
     },
     "execution_count": 25,
     "metadata": {},
     "output_type": "execute_result"
    }
   ],
   "source": [
    "# Human readable format of corpus (term-frequency)\n",
    "[[(id2word[id], freq) for id, freq in cp] for cp in corpus[:1]]"
   ]
  },
  {
   "cell_type": "code",
   "execution_count": 26,
   "metadata": {},
   "outputs": [],
   "source": [
    "# Build LDA model\n",
    "lda_model = gensim.models.ldamodel.LdaModel(corpus=corpus,\n",
    "                                           id2word=id2word,\n",
    "                                           num_topics=4, \n",
    "                                           random_state=100,\n",
    "                                           update_every=1,\n",
    "                                           chunksize=100,\n",
    "                                           passes=10,\n",
    "                                           alpha='auto',\n",
    "                                           per_word_topics=True)"
   ]
  },
  {
   "cell_type": "code",
   "execution_count": null,
   "metadata": {},
   "outputs": [],
   "source": [
    "# Save LDA model\n",
    "lda_model.save(\"lda_model\")\n",
    "\n",
    "# Optionally, you can also save the corpus and id2word dictionary for later use\n",
    "# Save corpus\n",
    "gensim.corpora.MmCorpus.serialize('corpus.mm', corpus)\n",
    "\n",
    "# Save id2word dictionary\n",
    "id2word.save('id2word.dict')"
   ]
  }
 ],
 "metadata": {
  "kernelspec": {
   "display_name": "venv",
   "language": "python",
   "name": "python3"
  },
  "language_info": {
   "codemirror_mode": {
    "name": "ipython",
    "version": 3
   },
   "file_extension": ".py",
   "mimetype": "text/x-python",
   "name": "python",
   "nbconvert_exporter": "python",
   "pygments_lexer": "ipython3",
   "version": "3.9.2"
  }
 },
 "nbformat": 4,
 "nbformat_minor": 2
}
